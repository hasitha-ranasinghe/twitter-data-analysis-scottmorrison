{
 "cells": [
  {
   "cell_type": "markdown",
   "metadata": {},
   "source": [
    "#  twitter-data-machine-learning"
   ]
  },
  {
   "cell_type": "markdown",
   "metadata": {},
   "source": [
    "import libraries"
   ]
  },
  {
   "cell_type": "code",
   "execution_count": 88,
   "metadata": {},
   "outputs": [],
   "source": [
    "import tweepy as tw\n",
    "import csv \n",
    "import pandas as pd\n",
    "import numpy as np"
   ]
  },
  {
   "cell_type": "markdown",
   "metadata": {},
   "source": [
    "credentials for twitter API"
   ]
  },
  {
   "cell_type": "code",
   "execution_count": 89,
   "metadata": {},
   "outputs": [],
   "source": [
    "consumer_key = \"8aQzIZwULc5l28YJ48Q9XWC9m\" \n",
    "consumer_secret = \"C10xKrWuAHf72RH4OKngWpiKTDWS5BFp0ov3Qe0jraYKjPkJ9y\"\n",
    "access_token = \"236069935-snzRYttJDfxnO2I0uUz4K2vrhuFHBisRKv0I6NHy\"\n",
    "access_token_secret = \"jTx2lVWUvPtbZMqwlKbzyNwZ0T48mvOoyXRcVxsM86nen\"\n",
    "\n",
    "auth = tw.OAuthHandler(consumer_key, consumer_secret)\n",
    "auth.set_access_token(access_token, access_token_secret)\n",
    "api = tw.API(auth,wait_on_rate_limit=True)"
   ]
  },
  {
   "cell_type": "markdown",
   "metadata": {},
   "source": [
    "filename and strings"
   ]
  },
  {
   "cell_type": "code",
   "execution_count": 90,
   "metadata": {},
   "outputs": [],
   "source": [
    "file = 'data/raw/scomo.csv'"
   ]
  },
  {
   "cell_type": "markdown",
   "metadata": {},
   "source": [
    "twitter search string"
   ]
  },
  {
   "cell_type": "code",
   "execution_count": 94,
   "metadata": {},
   "outputs": [],
   "source": [
    "#search_string = '#lockdownaustralia OR #stayhomeaustralia -filter:retweets'\n",
    "#search_string = 'lockdownaustralia OR stayhomeaustralia OR #lockdownaustralia OR #stayhomeaustralia -filter:retweets'\n",
    "search_string =  'scomo OR scottmorrison OR scottmorrisonmp -filter:retweets'\n",
    "\n",
    "#search_string = '#scomo OR #scottmorrison -filter:retweets'\n",
    "date_since = \"2020-03-01\"\n",
    "geo = '-24.7761086,134.755,2000km'"
   ]
  },
  {
   "cell_type": "markdown",
   "metadata": {},
   "source": [
    "retrieve data from twitter"
   ]
  },
  {
   "cell_type": "code",
   "execution_count": 95,
   "metadata": {},
   "outputs": [
    {
     "data": {
      "text/plain": [
       "150"
      ]
     },
     "execution_count": 95,
     "metadata": {},
     "output_type": "execute_result"
    }
   ],
   "source": [
    "#Open/Create a file to append data\n",
    "csvFile = open(file, 'w+', newline=\"\",encoding=\"utf-8\")\n",
    "csvWriter = csv.writer(csvFile)\n",
    "csvWriter.writerow([\"user_id\",\"tweet_created_time\",\"tweet_text\",\"tweet_length\",\"user_created_at\",\n",
    "                    \"user_followers_count\", \"user_friends_count\", \"twitter_source\",\n",
    "                    \"tweet_likes\",\"tweet_retweets\"])"
   ]
  },
  {
   "cell_type": "code",
   "execution_count": 96,
   "metadata": {},
   "outputs": [],
   "source": [
    "tweets = tw.Cursor(api.search,q=search_string,count=200, lang=\"en\",since=date_since)\n",
    "\n",
    "for tweet in tweets.items():\n",
    "    \n",
    "    csvWriter.writerow([tweet.id_str, \n",
    "                        tweet.created_at, \n",
    "                        tweet.text.encode(\"utf-8\"),\n",
    "                        len(tweet.text),\n",
    "                        tweet.author.created_at, \n",
    "                        tweet.author.followers_count,\n",
    "                        tweet.author.friends_count,\n",
    "                        tweet.source,\n",
    "                        tweet.favorite_count,\n",
    "                        tweet.retweet_count\n",
    "                       ])"
   ]
  },
  {
   "cell_type": "code",
   "execution_count": null,
   "metadata": {},
   "outputs": [],
   "source": []
  },
  {
   "cell_type": "code",
   "execution_count": null,
   "metadata": {},
   "outputs": [],
   "source": []
  },
  {
   "cell_type": "code",
   "execution_count": null,
   "metadata": {},
   "outputs": [],
   "source": []
  },
  {
   "cell_type": "markdown",
   "metadata": {},
   "source": [
    "# Unwanted"
   ]
  },
  {
   "cell_type": "code",
   "execution_count": null,
   "metadata": {},
   "outputs": [],
   "source": [
    "tweets = tw.Cursor(api.search,q=search_string,count=200, lang=\"en\",since=date_since, geocode=geo)\n",
    "\n",
    "for tweet in tweets.items(5):\n",
    "    \n",
    "    print(tweet.author.location,tweet.user.friends_count, tweet.user.followers_count)\n",
    "    "
   ]
  },
  {
   "cell_type": "code",
   "execution_count": 32,
   "metadata": {},
   "outputs": [],
   "source": [
    "col_names = [\"user_id\",\"tweet_created_time\",\"tweet_text\",\"tweet_length\",\"user_created_at\",\n",
    "                    \"user_followers_count\", \"user_friends_count\", \"twitter_source\",\n",
    "                    \"tweet_likes\",\"tweet_retweets\"]\n",
    "\n",
    "df = pd.DataFrame(columns=col_names)\n",
    "\n",
    "tweets = tw.Cursor(api.search,q=search_string,count=100, lang=\"en\",since=date_since)\n",
    "\n",
    "for tweet in tweets.items(10):\n",
    "    \n",
    "   # print(tweet.author.followers_count)\n",
    "  \n",
    "    a_row = pd.Series([tweet.id_str,tweet.created_at,tweet.text.encode(\"utf-8\"),len(tweet.text),tweet.author.created_at,\n",
    "           tweet.author.followers_count,tweet.author.friends_count,tweet.source,tweet.favorite_count,tweet.retweet_count])\n",
    "    \n",
    "    row_df = pd.DataFrame([a_row],columns=col_names)\n",
    "    \n",
    "    df = pd.concat([df, row_df], ignore_index=True)\n",
    "    \n",
    "\n",
    "#data = pd.DataFrame(data=[tweet.text for tweet in tweets.items(10)], columns=['Tweets'])"
   ]
  },
  {
   "cell_type": "code",
   "execution_count": null,
   "metadata": {},
   "outputs": [],
   "source": [
    "tweets = tw.Cursor(api.search,q=search_string,count=100, lang=\"en\",since=date_since)\n",
    "\n",
    "# Iterate and print tweets\n",
    "for tweet in tweets.items():\n",
    "    print(tweet.text)"
   ]
  },
  {
   "cell_type": "code",
   "execution_count": null,
   "metadata": {},
   "outputs": [],
   "source": []
  },
  {
   "cell_type": "code",
   "execution_count": null,
   "metadata": {},
   "outputs": [],
   "source": []
  }
 ],
 "metadata": {
  "kernelspec": {
   "display_name": "Python 3",
   "language": "python",
   "name": "python3"
  },
  "language_info": {
   "codemirror_mode": {
    "name": "ipython",
    "version": 3
   },
   "file_extension": ".py",
   "mimetype": "text/x-python",
   "name": "python",
   "nbconvert_exporter": "python",
   "pygments_lexer": "ipython3",
   "version": "3.6.5"
  }
 },
 "nbformat": 4,
 "nbformat_minor": 2
}
