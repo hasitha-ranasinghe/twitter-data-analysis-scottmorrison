{
 "cells": [
  {
   "cell_type": "code",
   "execution_count": 1,
   "metadata": {},
   "outputs": [],
   "source": [
    "import pandas as pd     \n",
    "import numpy as np  "
   ]
  },
  {
   "cell_type": "code",
   "execution_count": 21,
   "metadata": {},
   "outputs": [],
   "source": [
    "import preprocessor as p\n",
    "import re\n",
    "\n",
    "#from preprocessor.api import clean, tokenize, parse"
   ]
  },
  {
   "cell_type": "code",
   "execution_count": 204,
   "metadata": {},
   "outputs": [],
   "source": [
    "import nltk\n",
    "from nltk.tokenize import sent_tokenize\n",
    "from nltk.corpus import stopwords\n",
    "from nltk.tokenize import word_tokenize\n",
    "from nltk.stem import PorterStemmer\n",
    "from nltk.corpus import words"
   ]
  },
  {
   "cell_type": "code",
   "execution_count": 267,
   "metadata": {
    "scrolled": true
   },
   "outputs": [],
   "source": [
    "raw_data = pd.read_csv('data/raw/scomo.csv', usecols=['tweet_text'])"
   ]
  },
  {
   "cell_type": "code",
   "execution_count": 268,
   "metadata": {},
   "outputs": [],
   "source": [
    "pd.options.display.max_colwidth=300"
   ]
  },
  {
   "cell_type": "code",
   "execution_count": 269,
   "metadata": {
    "scrolled": true
   },
   "outputs": [
    {
     "data": {
      "text/html": [
       "<div>\n",
       "<style scoped>\n",
       "    .dataframe tbody tr th:only-of-type {\n",
       "        vertical-align: middle;\n",
       "    }\n",
       "\n",
       "    .dataframe tbody tr th {\n",
       "        vertical-align: top;\n",
       "    }\n",
       "\n",
       "    .dataframe thead th {\n",
       "        text-align: right;\n",
       "    }\n",
       "</style>\n",
       "<table border=\"1\" class=\"dataframe\">\n",
       "  <thead>\n",
       "    <tr style=\"text-align: right;\">\n",
       "      <th></th>\n",
       "      <th>tweet_text</th>\n",
       "    </tr>\n",
       "  </thead>\n",
       "  <tbody>\n",
       "    <tr>\n",
       "      <th>0</th>\n",
       "      <td>b'@BelindaJones68 @Hillsong @ScottMorrisonMP @nswpolice Wonder if @nswpolice know about this and would they or Fuller take action?'</td>\n",
       "    </tr>\n",
       "    <tr>\n",
       "      <th>1</th>\n",
       "      <td>b'@Ctl_Alt_Del @cscviews @ScottMorrisonMP China doesn\\xe2\\x80\\x99t need to raise a sweat it just buys everything'</td>\n",
       "    </tr>\n",
       "    <tr>\n",
       "      <th>2</th>\n",
       "      <td>b'@Ctl_Alt_Del @ScottMorrisonMP Wants to keep up the polls e.g. leaders during wartime popularity rises \\xf0\\x9f\\xa4\\xac'</td>\n",
       "    </tr>\n",
       "    <tr>\n",
       "      <th>3</th>\n",
       "      <td>b'@FBIAgentsAssoc @FBIWFO @ScottMorrisonMP(Pt10)@Citi,@eBay,@amazon,@Twitter,@bbva,@Microsoft,@Outlook,\\xe2\\x80\\xa6 https://t.co/F8wvFFNJlM'</td>\n",
       "    </tr>\n",
       "    <tr>\n",
       "      <th>4</th>\n",
       "      <td>b'@BelindaJones68 @ScottMorrisonMP @BrianCHouston @nswpolice \\n@NSWHealth \\nYou guys going to investigate?'</td>\n",
       "    </tr>\n",
       "    <tr>\n",
       "      <th>5</th>\n",
       "      <td>b'Now the rest of the world! Looking at you @ScottMorrisonMP @markrutte https://t.co/gGCTW7sa22'</td>\n",
       "    </tr>\n",
       "    <tr>\n",
       "      <th>6</th>\n",
       "      <td>b\"@isaacfloyd13 @Hillsong @ScottMorrisonMP @nswpolice He didn't speak in tongues at this event but it would be intere\\xe2\\x80\\xa6 https://t.co/vUR7lNXMOp\"</td>\n",
       "    </tr>\n",
       "    <tr>\n",
       "      <th>7</th>\n",
       "      <td>b'@EDM17503975 @Sutts1102 @Milliganreports @poornhonest @DanielAndrewsMP @ScottMorrisonMP Why would the victims of th\\xe2\\x80\\xa6 https://t.co/IJGT0t9wyc'</td>\n",
       "    </tr>\n",
       "    <tr>\n",
       "      <th>8</th>\n",
       "      <td>b'@ScottMorrisonMP @SecPompeo \\xe2\\x80\\x9caUsTRaLiA and the US aRE gOod mAtEs\\xe2\\x80\\x9d \\n\\nGet new line ya fucken nerd.'</td>\n",
       "    </tr>\n",
       "    <tr>\n",
       "      <th>9</th>\n",
       "      <td>b'@KezBenn @SkyNewsAust @ScottMorrisonMP So you agree with the social restrictions on movements then? And, asking me\\xe2\\x80\\xa6 https://t.co/fq5UuQvkMo'</td>\n",
       "    </tr>\n",
       "    <tr>\n",
       "      <th>10</th>\n",
       "      <td>b'Cudos to Japan now Australia needs to do the same @ScottMorrisonMP @JoshFrydenberg you want to remain in Government\\xe2\\x80\\xa6 https://t.co/op2TvJ9pYn'</td>\n",
       "    </tr>\n",
       "    <tr>\n",
       "      <th>11</th>\n",
       "      <td>b'@bobcat_rusty @SkyNewsAust @ScottMorrisonMP Get it? Not so simple is it?'</td>\n",
       "    </tr>\n",
       "    <tr>\n",
       "      <th>12</th>\n",
       "      <td>b'@bobcat_rusty @SkyNewsAust @ScottMorrisonMP People die inside too. Many of isolation and loneliness. The problem wi\\xe2\\x80\\xa6 https://t.co/sLmNXKtzRC'</td>\n",
       "    </tr>\n",
       "    <tr>\n",
       "      <th>13</th>\n",
       "      <td>b'@AlboMP How are we going with income tax cuts @AlboMP @ScottMorrisonMP'</td>\n",
       "    </tr>\n",
       "    <tr>\n",
       "      <th>14</th>\n",
       "      <td>b'@ScottMorrisonMP @SecPompeo Some Americans citizens are living in Australia,  they need some financial support, so\\xe2\\x80\\xa6 https://t.co/F0gG2Ty8di'</td>\n",
       "    </tr>\n",
       "    <tr>\n",
       "      <th>15</th>\n",
       "      <td>b'@ScottMorrisonMP Well, because you\\xe2\\x80\\x99ve done a pretty good job so far AND you used the magic word, I will.'</td>\n",
       "    </tr>\n",
       "    <tr>\n",
       "      <th>16</th>\n",
       "      <td>b'I want to see the puzzles @ScottMorrisonMP and his family are doing. Do they make nice pictures? Who do you think t\\xe2\\x80\\xa6 https://t.co/oCcdS6aTVB'</td>\n",
       "    </tr>\n",
       "    <tr>\n",
       "      <th>17</th>\n",
       "      <td>b\"@bobcat_rusty @SkyNewsAust @ScottMorrisonMP Who's going against the health recommendations? I'm suggesting they be\\xe2\\x80\\xa6 https://t.co/1Hza0NtvTg\"</td>\n",
       "    </tr>\n",
       "    <tr>\n",
       "      <th>18</th>\n",
       "      <td>b'I am so glad Tony Abbott is not in opposition right now.  @AlboMP  @ScottMorrisonMP #coronavirus #Covid_19 #auspol'</td>\n",
       "    </tr>\n",
       "    <tr>\n",
       "      <th>19</th>\n",
       "      <td>b'@MTAnedt5IiPGKMm @JoshFrydenberg @ScottMorrisonMP Nothing for employers'</td>\n",
       "    </tr>\n",
       "  </tbody>\n",
       "</table>\n",
       "</div>"
      ],
      "text/plain": [
       "                                                                                                                                                    tweet_text\n",
       "0                          b'@BelindaJones68 @Hillsong @ScottMorrisonMP @nswpolice Wonder if @nswpolice know about this and would they or Fuller take action?'\n",
       "1                                            b'@Ctl_Alt_Del @cscviews @ScottMorrisonMP China doesn\\xe2\\x80\\x99t need to raise a sweat it just buys everything'\n",
       "2                                    b'@Ctl_Alt_Del @ScottMorrisonMP Wants to keep up the polls e.g. leaders during wartime popularity rises \\xf0\\x9f\\xa4\\xac'\n",
       "3                 b'@FBIAgentsAssoc @FBIWFO @ScottMorrisonMP(Pt10)@Citi,@eBay,@amazon,@Twitter,@bbva,@Microsoft,@Outlook,\\xe2\\x80\\xa6 https://t.co/F8wvFFNJlM'\n",
       "4                                                  b'@BelindaJones68 @ScottMorrisonMP @BrianCHouston @nswpolice \\n@NSWHealth \\nYou guys going to investigate?'\n",
       "5                                                             b'Now the rest of the world! Looking at you @ScottMorrisonMP @markrutte https://t.co/gGCTW7sa22'\n",
       "6   b\"@isaacfloyd13 @Hillsong @ScottMorrisonMP @nswpolice He didn't speak in tongues at this event but it would be intere\\xe2\\x80\\xa6 https://t.co/vUR7lNXMOp\"\n",
       "7   b'@EDM17503975 @Sutts1102 @Milliganreports @poornhonest @DanielAndrewsMP @ScottMorrisonMP Why would the victims of th\\xe2\\x80\\xa6 https://t.co/IJGT0t9wyc'\n",
       "8                                  b'@ScottMorrisonMP @SecPompeo \\xe2\\x80\\x9caUsTRaLiA and the US aRE gOod mAtEs\\xe2\\x80\\x9d \\n\\nGet new line ya fucken nerd.'\n",
       "9    b'@KezBenn @SkyNewsAust @ScottMorrisonMP So you agree with the social restrictions on movements then? And, asking me\\xe2\\x80\\xa6 https://t.co/fq5UuQvkMo'\n",
       "10  b'Cudos to Japan now Australia needs to do the same @ScottMorrisonMP @JoshFrydenberg you want to remain in Government\\xe2\\x80\\xa6 https://t.co/op2TvJ9pYn'\n",
       "11                                                                                 b'@bobcat_rusty @SkyNewsAust @ScottMorrisonMP Get it? Not so simple is it?'\n",
       "12  b'@bobcat_rusty @SkyNewsAust @ScottMorrisonMP People die inside too. Many of isolation and loneliness. The problem wi\\xe2\\x80\\xa6 https://t.co/sLmNXKtzRC'\n",
       "13                                                                                   b'@AlboMP How are we going with income tax cuts @AlboMP @ScottMorrisonMP'\n",
       "14   b'@ScottMorrisonMP @SecPompeo Some Americans citizens are living in Australia,  they need some financial support, so\\xe2\\x80\\xa6 https://t.co/F0gG2Ty8di'\n",
       "15                                      b'@ScottMorrisonMP Well, because you\\xe2\\x80\\x99ve done a pretty good job so far AND you used the magic word, I will.'\n",
       "16  b'I want to see the puzzles @ScottMorrisonMP and his family are doing. Do they make nice pictures? Who do you think t\\xe2\\x80\\xa6 https://t.co/oCcdS6aTVB'\n",
       "17   b\"@bobcat_rusty @SkyNewsAust @ScottMorrisonMP Who's going against the health recommendations? I'm suggesting they be\\xe2\\x80\\xa6 https://t.co/1Hza0NtvTg\"\n",
       "18                                       b'I am so glad Tony Abbott is not in opposition right now.  @AlboMP  @ScottMorrisonMP #coronavirus #Covid_19 #auspol'\n",
       "19                                                                                  b'@MTAnedt5IiPGKMm @JoshFrydenberg @ScottMorrisonMP Nothing for employers'"
      ]
     },
     "execution_count": 269,
     "metadata": {},
     "output_type": "execute_result"
    }
   ],
   "source": [
    "raw_data.head(20)"
   ]
  },
  {
   "cell_type": "code",
   "execution_count": null,
   "metadata": {},
   "outputs": [],
   "source": []
  },
  {
   "cell_type": "markdown",
   "metadata": {},
   "source": [
    "## Tweet cleaning \n",
    "### Remove URL, mention, hashtags, reserved words, emoji, smiley and number"
   ]
  },
  {
   "cell_type": "code",
   "execution_count": 270,
   "metadata": {},
   "outputs": [],
   "source": [
    "raw_data['tweet_text'] = np.array([ p.clean(tweet) for tweet in raw_data['tweet_text'] ])"
   ]
  },
  {
   "cell_type": "code",
   "execution_count": 271,
   "metadata": {
    "scrolled": true
   },
   "outputs": [
    {
     "data": {
      "text/html": [
       "<div>\n",
       "<style scoped>\n",
       "    .dataframe tbody tr th:only-of-type {\n",
       "        vertical-align: middle;\n",
       "    }\n",
       "\n",
       "    .dataframe tbody tr th {\n",
       "        vertical-align: top;\n",
       "    }\n",
       "\n",
       "    .dataframe thead th {\n",
       "        text-align: right;\n",
       "    }\n",
       "</style>\n",
       "<table border=\"1\" class=\"dataframe\">\n",
       "  <thead>\n",
       "    <tr style=\"text-align: right;\">\n",
       "      <th></th>\n",
       "      <th>tweet_text</th>\n",
       "    </tr>\n",
       "  </thead>\n",
       "  <tbody>\n",
       "    <tr>\n",
       "      <th>0</th>\n",
       "      <td>b' Wonder if know about this and would they or Fuller take action?'</td>\n",
       "    </tr>\n",
       "    <tr>\n",
       "      <th>1</th>\n",
       "      <td>b' China doesn\\xe2\\x80\\x99t need to raise a sweat it just buys everything'</td>\n",
       "    </tr>\n",
       "    <tr>\n",
       "      <th>2</th>\n",
       "      <td>b' Wants to keep up the polls e.g. leaders during wartime popularity rises \\xf0\\x9f\\xa4\\xac'</td>\n",
       "    </tr>\n",
       "    <tr>\n",
       "      <th>3</th>\n",
       "      <td>b' (Pt10),,,,,,,\\xe2\\x80\\xa6 '</td>\n",
       "    </tr>\n",
       "    <tr>\n",
       "      <th>4</th>\n",
       "      <td>b' \\n \\nYou guys going to investigate?'</td>\n",
       "    </tr>\n",
       "    <tr>\n",
       "      <th>5</th>\n",
       "      <td>b'Now the rest of the world! Looking at you '</td>\n",
       "    </tr>\n",
       "    <tr>\n",
       "      <th>6</th>\n",
       "      <td>b\" He didn't speak in tongues at this event but it would be intere\\xe2\\x80\\xa6 \"</td>\n",
       "    </tr>\n",
       "    <tr>\n",
       "      <th>7</th>\n",
       "      <td>b' Why would the victims of th\\xe2\\x80\\xa6 '</td>\n",
       "    </tr>\n",
       "    <tr>\n",
       "      <th>8</th>\n",
       "      <td>b' \\xe2\\x80\\x9caUsTRaLiA and the US aRE gOod mAtEs\\xe2\\x80\\x9d \\n\\nGet new line ya fucken nerd.'</td>\n",
       "    </tr>\n",
       "    <tr>\n",
       "      <th>9</th>\n",
       "      <td>b' So you agree with the social restrictions on movements then? And, asking me\\xe2\\x80\\xa6 '</td>\n",
       "    </tr>\n",
       "    <tr>\n",
       "      <th>10</th>\n",
       "      <td>b'Cudos to Japan now Australia needs to do the same you want to remain in Government\\xe2\\x80\\xa6 '</td>\n",
       "    </tr>\n",
       "    <tr>\n",
       "      <th>11</th>\n",
       "      <td>b' Get it? Not so simple is it?'</td>\n",
       "    </tr>\n",
       "    <tr>\n",
       "      <th>12</th>\n",
       "      <td>b' People die inside too. Many of isolation and loneliness. The problem wi\\xe2\\x80\\xa6 '</td>\n",
       "    </tr>\n",
       "    <tr>\n",
       "      <th>13</th>\n",
       "      <td>b' How are we going with income tax cuts '</td>\n",
       "    </tr>\n",
       "    <tr>\n",
       "      <th>14</th>\n",
       "      <td>b' Some Americans citizens are living in Australia, they need some financial support, so\\xe2\\x80\\xa6 '</td>\n",
       "    </tr>\n",
       "    <tr>\n",
       "      <th>15</th>\n",
       "      <td>b' Well, because you\\xe2\\x80\\x99ve done a pretty good job so far AND you used the magic word, I will.'</td>\n",
       "    </tr>\n",
       "    <tr>\n",
       "      <th>16</th>\n",
       "      <td>b'I want to see the puzzles and his family are doing. Do they make nice pictures? Who do you think t\\xe2\\x80\\xa6 '</td>\n",
       "    </tr>\n",
       "    <tr>\n",
       "      <th>17</th>\n",
       "      <td>b\" Who's going against the health recommendations? I'm suggesting they be\\xe2\\x80\\xa6 \"</td>\n",
       "    </tr>\n",
       "    <tr>\n",
       "      <th>18</th>\n",
       "      <td>b'I am so glad Tony Abbott is not in opposition right now. '</td>\n",
       "    </tr>\n",
       "    <tr>\n",
       "      <th>19</th>\n",
       "      <td>b' Nothing for employers'</td>\n",
       "    </tr>\n",
       "  </tbody>\n",
       "</table>\n",
       "</div>"
      ],
      "text/plain": [
       "                                                                                                            tweet_text\n",
       "0                                                  b' Wonder if know about this and would they or Fuller take action?'\n",
       "1                                           b' China doesn\\xe2\\x80\\x99t need to raise a sweat it just buys everything'\n",
       "2                         b' Wants to keep up the polls e.g. leaders during wartime popularity rises \\xf0\\x9f\\xa4\\xac'\n",
       "3                                                                                       b' (Pt10),,,,,,,\\xe2\\x80\\xa6 '\n",
       "4                                                                              b' \\n \\nYou guys going to investigate?'\n",
       "5                                                                        b'Now the rest of the world! Looking at you '\n",
       "6                                     b\" He didn't speak in tongues at this event but it would be intere\\xe2\\x80\\xa6 \"\n",
       "7                                                                         b' Why would the victims of th\\xe2\\x80\\xa6 '\n",
       "8                     b' \\xe2\\x80\\x9caUsTRaLiA and the US aRE gOod mAtEs\\xe2\\x80\\x9d \\n\\nGet new line ya fucken nerd.'\n",
       "9                         b' So you agree with the social restrictions on movements then? And, asking me\\xe2\\x80\\xa6 '\n",
       "10                  b'Cudos to Japan now Australia needs to do the same you want to remain in Government\\xe2\\x80\\xa6 '\n",
       "11                                                                                    b' Get it? Not so simple is it?'\n",
       "12                            b' People die inside too. Many of isolation and loneliness. The problem wi\\xe2\\x80\\xa6 '\n",
       "13                                                                          b' How are we going with income tax cuts '\n",
       "14              b' Some Americans citizens are living in Australia, they need some financial support, so\\xe2\\x80\\xa6 '\n",
       "15              b' Well, because you\\xe2\\x80\\x99ve done a pretty good job so far AND you used the magic word, I will.'\n",
       "16  b'I want to see the puzzles and his family are doing. Do they make nice pictures? Who do you think t\\xe2\\x80\\xa6 '\n",
       "17                             b\" Who's going against the health recommendations? I'm suggesting they be\\xe2\\x80\\xa6 \"\n",
       "18                                                        b'I am so glad Tony Abbott is not in opposition right now. '\n",
       "19                                                                                           b' Nothing for employers'"
      ]
     },
     "execution_count": 271,
     "metadata": {},
     "output_type": "execute_result"
    }
   ],
   "source": [
    "raw_data.head(20)"
   ]
  },
  {
   "cell_type": "markdown",
   "metadata": {},
   "source": [
    "### Remove punctuations"
   ]
  },
  {
   "cell_type": "code",
   "execution_count": 273,
   "metadata": {},
   "outputs": [],
   "source": [
    "raw_data['tweet_text'] = np.array([ re.sub(r'(@[A-Za-z0-9]+)|([^0)-9A-Za-z \\t])|(\\w+:\\/\\/\\S+)', \"\", tweet) for tweet in raw_data['tweet_text'] ])\n",
    "raw_data.head(20)"
   ]
  },
  {
   "cell_type": "code",
   "execution_count": 277,
   "metadata": {
    "scrolled": true
   },
   "outputs": [
    {
     "data": {
      "text/html": [
       "<div>\n",
       "<style scoped>\n",
       "    .dataframe tbody tr th:only-of-type {\n",
       "        vertical-align: middle;\n",
       "    }\n",
       "\n",
       "    .dataframe tbody tr th {\n",
       "        vertical-align: top;\n",
       "    }\n",
       "\n",
       "    .dataframe thead th {\n",
       "        text-align: right;\n",
       "    }\n",
       "</style>\n",
       "<table border=\"1\" class=\"dataframe\">\n",
       "  <thead>\n",
       "    <tr style=\"text-align: right;\">\n",
       "      <th></th>\n",
       "      <th>tweet_text</th>\n",
       "    </tr>\n",
       "  </thead>\n",
       "  <tbody>\n",
       "    <tr>\n",
       "      <th>0</th>\n",
       "      <td>b Wonder if know about this and would they or Fuller take action</td>\n",
       "    </tr>\n",
       "    <tr>\n",
       "      <th>1</th>\n",
       "      <td>b China doesnxe2x80x99t need to raise a sweat it just buys everything</td>\n",
       "    </tr>\n",
       "    <tr>\n",
       "      <th>2</th>\n",
       "      <td>b Wants to keep up the polls e.g. leaders during wartime popularity rises xf0x9fxa4xac</td>\n",
       "    </tr>\n",
       "    <tr>\n",
       "      <th>3</th>\n",
       "      <td>b Pt10),,,,,,,xe2x80xa6</td>\n",
       "    </tr>\n",
       "    <tr>\n",
       "      <th>4</th>\n",
       "      <td>b n nYou guys going to investigate</td>\n",
       "    </tr>\n",
       "    <tr>\n",
       "      <th>5</th>\n",
       "      <td>bNow the rest of the world Looking at you</td>\n",
       "    </tr>\n",
       "    <tr>\n",
       "      <th>6</th>\n",
       "      <td>b He didnt speak in tongues at this event but it would be interexe2x80xa6</td>\n",
       "    </tr>\n",
       "    <tr>\n",
       "      <th>7</th>\n",
       "      <td>b Why would the victims of thxe2x80xa6</td>\n",
       "    </tr>\n",
       "    <tr>\n",
       "      <th>8</th>\n",
       "      <td>b xe2x80x9caUsTRaLiA and the US aRE gOod mAtEsxe2x80x9d nnGet new line ya fucken nerd.</td>\n",
       "    </tr>\n",
       "    <tr>\n",
       "      <th>9</th>\n",
       "      <td>b So you agree with the social restrictions on movements then And, asking mexe2x80xa6</td>\n",
       "    </tr>\n",
       "  </tbody>\n",
       "</table>\n",
       "</div>"
      ],
      "text/plain": [
       "                                                                               tweet_text\n",
       "0                        b Wonder if know about this and would they or Fuller take action\n",
       "1                   b China doesnxe2x80x99t need to raise a sweat it just buys everything\n",
       "2  b Wants to keep up the polls e.g. leaders during wartime popularity rises xf0x9fxa4xac\n",
       "3                                                                b Pt10),,,,,,,xe2x80xa6 \n",
       "4                                                      b n nYou guys going to investigate\n",
       "5                                              bNow the rest of the world Looking at you \n",
       "6              b He didnt speak in tongues at this event but it would be interexe2x80xa6 \n",
       "7                                                 b Why would the victims of thxe2x80xa6 \n",
       "8  b xe2x80x9caUsTRaLiA and the US aRE gOod mAtEsxe2x80x9d nnGet new line ya fucken nerd.\n",
       "9  b So you agree with the social restrictions on movements then And, asking mexe2x80xa6 "
      ]
     },
     "execution_count": 277,
     "metadata": {},
     "output_type": "execute_result"
    }
   ],
   "source": [
    "raw_data.head(10)"
   ]
  },
  {
   "cell_type": "markdown",
   "metadata": {},
   "source": [
    "### Remove first letter 'b'"
   ]
  },
  {
   "cell_type": "code",
   "execution_count": 278,
   "metadata": {},
   "outputs": [],
   "source": [
    "raw_data['tweet_text'] = np.array([ tweet[1:] for tweet in raw_data['tweet_text'] ])\n",
    "raw_data.head(20)"
   ]
  },
  {
   "cell_type": "code",
   "execution_count": 279,
   "metadata": {
    "scrolled": true
   },
   "outputs": [
    {
     "data": {
      "text/html": [
       "<div>\n",
       "<style scoped>\n",
       "    .dataframe tbody tr th:only-of-type {\n",
       "        vertical-align: middle;\n",
       "    }\n",
       "\n",
       "    .dataframe tbody tr th {\n",
       "        vertical-align: top;\n",
       "    }\n",
       "\n",
       "    .dataframe thead th {\n",
       "        text-align: right;\n",
       "    }\n",
       "</style>\n",
       "<table border=\"1\" class=\"dataframe\">\n",
       "  <thead>\n",
       "    <tr style=\"text-align: right;\">\n",
       "      <th></th>\n",
       "      <th>tweet_text</th>\n",
       "    </tr>\n",
       "  </thead>\n",
       "  <tbody>\n",
       "    <tr>\n",
       "      <th>0</th>\n",
       "      <td>Wonder if know about this and would they or Fuller take action</td>\n",
       "    </tr>\n",
       "    <tr>\n",
       "      <th>1</th>\n",
       "      <td>China doesnxe2x80x99t need to raise a sweat it just buys everything</td>\n",
       "    </tr>\n",
       "    <tr>\n",
       "      <th>2</th>\n",
       "      <td>Wants to keep up the polls e.g. leaders during wartime popularity rises xf0x9fxa4xac</td>\n",
       "    </tr>\n",
       "    <tr>\n",
       "      <th>3</th>\n",
       "      <td>Pt10),,,,,,,xe2x80xa6</td>\n",
       "    </tr>\n",
       "    <tr>\n",
       "      <th>4</th>\n",
       "      <td>n nYou guys going to investigate</td>\n",
       "    </tr>\n",
       "    <tr>\n",
       "      <th>5</th>\n",
       "      <td>Now the rest of the world Looking at you</td>\n",
       "    </tr>\n",
       "    <tr>\n",
       "      <th>6</th>\n",
       "      <td>He didnt speak in tongues at this event but it would be interexe2x80xa6</td>\n",
       "    </tr>\n",
       "    <tr>\n",
       "      <th>7</th>\n",
       "      <td>Why would the victims of thxe2x80xa6</td>\n",
       "    </tr>\n",
       "    <tr>\n",
       "      <th>8</th>\n",
       "      <td>xe2x80x9caUsTRaLiA and the US aRE gOod mAtEsxe2x80x9d nnGet new line ya fucken nerd.</td>\n",
       "    </tr>\n",
       "    <tr>\n",
       "      <th>9</th>\n",
       "      <td>So you agree with the social restrictions on movements then And, asking mexe2x80xa6</td>\n",
       "    </tr>\n",
       "    <tr>\n",
       "      <th>10</th>\n",
       "      <td>Cudos to Japan now Australia needs to do the same you want to remain in Governmentxe2x80xa6</td>\n",
       "    </tr>\n",
       "    <tr>\n",
       "      <th>11</th>\n",
       "      <td>Get it Not so simple is it</td>\n",
       "    </tr>\n",
       "    <tr>\n",
       "      <th>12</th>\n",
       "      <td>People die inside too. Many of isolation and loneliness. The problem wixe2x80xa6</td>\n",
       "    </tr>\n",
       "    <tr>\n",
       "      <th>13</th>\n",
       "      <td>How are we going with income tax cuts</td>\n",
       "    </tr>\n",
       "    <tr>\n",
       "      <th>14</th>\n",
       "      <td>Some Americans citizens are living in Australia, they need some financial support, soxe2x80xa6</td>\n",
       "    </tr>\n",
       "    <tr>\n",
       "      <th>15</th>\n",
       "      <td>Well, because youxe2x80x99ve done a pretty good job so far AND you used the magic word, I will.</td>\n",
       "    </tr>\n",
       "    <tr>\n",
       "      <th>16</th>\n",
       "      <td>I want to see the puzzles and his family are doing. Do they make nice pictures Who do you think txe2x80xa6</td>\n",
       "    </tr>\n",
       "    <tr>\n",
       "      <th>17</th>\n",
       "      <td>Whos going against the health recommendations Im suggesting they bexe2x80xa6</td>\n",
       "    </tr>\n",
       "    <tr>\n",
       "      <th>18</th>\n",
       "      <td>I am so glad Tony Abbott is not in opposition right now.</td>\n",
       "    </tr>\n",
       "    <tr>\n",
       "      <th>19</th>\n",
       "      <td>Nothing for employers</td>\n",
       "    </tr>\n",
       "  </tbody>\n",
       "</table>\n",
       "</div>"
      ],
      "text/plain": [
       "                                                                                                     tweet_text\n",
       "0                                                Wonder if know about this and would they or Fuller take action\n",
       "1                                           China doesnxe2x80x99t need to raise a sweat it just buys everything\n",
       "2                          Wants to keep up the polls e.g. leaders during wartime popularity rises xf0x9fxa4xac\n",
       "3                                                                                        Pt10),,,,,,,xe2x80xa6 \n",
       "4                                                                              n nYou guys going to investigate\n",
       "5                                                                     Now the rest of the world Looking at you \n",
       "6                                      He didnt speak in tongues at this event but it would be interexe2x80xa6 \n",
       "7                                                                         Why would the victims of thxe2x80xa6 \n",
       "8                          xe2x80x9caUsTRaLiA and the US aRE gOod mAtEsxe2x80x9d nnGet new line ya fucken nerd.\n",
       "9                          So you agree with the social restrictions on movements then And, asking mexe2x80xa6 \n",
       "10                 Cudos to Japan now Australia needs to do the same you want to remain in Governmentxe2x80xa6 \n",
       "11                                                                                   Get it Not so simple is it\n",
       "12                            People die inside too. Many of isolation and loneliness. The problem wixe2x80xa6 \n",
       "13                                                                       How are we going with income tax cuts \n",
       "14              Some Americans citizens are living in Australia, they need some financial support, soxe2x80xa6 \n",
       "15              Well, because youxe2x80x99ve done a pretty good job so far AND you used the magic word, I will.\n",
       "16  I want to see the puzzles and his family are doing. Do they make nice pictures Who do you think txe2x80xa6 \n",
       "17                                Whos going against the health recommendations Im suggesting they bexe2x80xa6 \n",
       "18                                                    I am so glad Tony Abbott is not in opposition right now. \n",
       "19                                                                                        Nothing for employers"
      ]
     },
     "execution_count": 279,
     "metadata": {},
     "output_type": "execute_result"
    }
   ],
   "source": [
    "raw_data.head(20)"
   ]
  },
  {
   "cell_type": "markdown",
   "metadata": {},
   "source": [
    "### Lower case"
   ]
  },
  {
   "cell_type": "code",
   "execution_count": 280,
   "metadata": {},
   "outputs": [
    {
     "data": {
      "text/plain": [
       "0                                                 wonder if know about this and would they or fuller take action\n",
       "1                                            china doesnxe2x80x99t need to raise a sweat it just buys everything\n",
       "2                           wants to keep up the polls e.g. leaders during wartime popularity rises xf0x9fxa4xac\n",
       "3                                                                                          pt10),,,,,,,xe2x80xa6\n",
       "4                                                                               n nyou guys going to investigate\n",
       "5                                                                       now the rest of the world looking at you\n",
       "6                                        he didnt speak in tongues at this event but it would be interexe2x80xa6\n",
       "7                                                                           why would the victims of thxe2x80xa6\n",
       "8                           xe2x80x9caustralia and the us are good matesxe2x80x9d nnget new line ya fucken nerd.\n",
       "9                            so you agree with the social restrictions on movements then and, asking mexe2x80xa6\n",
       "10                   cudos to japan now australia needs to do the same you want to remain in governmentxe2x80xa6\n",
       "11                                                                                    get it not so simple is it\n",
       "12                              people die inside too. many of isolation and loneliness. the problem wixe2x80xa6\n",
       "13                                                                         how are we going with income tax cuts\n",
       "14                some americans citizens are living in australia, they need some financial support, soxe2x80xa6\n",
       "15               well, because youxe2x80x99ve done a pretty good job so far and you used the magic word, i will.\n",
       "16    i want to see the puzzles and his family are doing. do they make nice pictures who do you think txe2x80xa6\n",
       "17                                  whos going against the health recommendations im suggesting they bexe2x80xa6\n",
       "18                                                      i am so glad tony abbott is not in opposition right now.\n",
       "19                                                                                         nothing for employers\n",
       "Name: tweet_text, dtype: object"
      ]
     },
     "execution_count": 280,
     "metadata": {},
     "output_type": "execute_result"
    }
   ],
   "source": [
    "raw_data['tweet_text'] = raw_data['tweet_text'].apply(lambda x: \" \".join(x.lower() for x in x.split()))\n",
    "raw_data['tweet_text'].head(20)"
   ]
  },
  {
   "cell_type": "code",
   "execution_count": null,
   "metadata": {},
   "outputs": [],
   "source": []
  },
  {
   "cell_type": "markdown",
   "metadata": {},
   "source": [
    "## Remove stop words"
   ]
  },
  {
   "cell_type": "code",
   "execution_count": null,
   "metadata": {},
   "outputs": [],
   "source": [
    "stop_words = stopwords.words('english')"
   ]
  },
  {
   "cell_type": "code",
   "execution_count": null,
   "metadata": {},
   "outputs": [],
   "source": [
    "raw_data['clean_text'] = raw_data['clean_text'].apply(lambda x: \" \".join(x for x in x.split() if x not in stop_words))"
   ]
  },
  {
   "cell_type": "markdown",
   "metadata": {},
   "source": [
    "## Write to csv"
   ]
  },
  {
   "cell_type": "code",
   "execution_count": 92,
   "metadata": {},
   "outputs": [],
   "source": [
    "raw_data.to_csv('data/processed/processed_data.csv',index=False)"
   ]
  },
  {
   "cell_type": "code",
   "execution_count": null,
   "metadata": {},
   "outputs": [],
   "source": []
  },
  {
   "cell_type": "markdown",
   "metadata": {},
   "source": [
    "# Rare words removal"
   ]
  },
  {
   "cell_type": "code",
   "execution_count": 200,
   "metadata": {},
   "outputs": [
    {
     "data": {
      "text/plain": [
       "0                                              Wonder know would Fuller take action\n",
       "1                            China doesnxe2x80x99t need raise sweat buys everything\n",
       "2               Wants keep polls e.g. leaders wartime popularity rises xf0x9fxa4xac\n",
       "3                                                             Pt10),,,,,,,xe2x80xa6\n",
       "4                                                     n nYou guys going investigate\n",
       "5                                                            Now rest world Looking\n",
       "6                                He didnt speak tongues event would interexe2x80xa6\n",
       "7                                                     Why would victims thxe2x80xa6\n",
       "8      xe2x80x9caUsTRaLiA US aRE gOod mAtEsxe2x80x9d nnGet new line ya fucken nerd.\n",
       "9                    So agree social restrictions movements And, asking mexe2x80xa6\n",
       "10                      Cudos Japan Australia needs want remain Governmentxe2x80xa6\n",
       "11                                                                   Get Not simple\n",
       "12        People die inside too. Many isolation loneliness. The problem wixe2x80xa6\n",
       "13                                                        How going income tax cuts\n",
       "14    Some Americans citizens living Australia, need financial support, soxe2x80xa6\n",
       "15       Well, youxe2x80x99ve done pretty good job far AND used magic word, I will.\n",
       "16      I want see puzzles family doing. Do make nice pictures Who think txe2x80xa6\n",
       "17                      Whos going health recommendations Im suggesting bexe2x80xa6\n",
       "18                                         I glad Tony Abbott opposition right now.\n",
       "19                                                                Nothing employers\n",
       "Name: clean_text, dtype: object"
      ]
     },
     "execution_count": 200,
     "metadata": {},
     "output_type": "execute_result"
    }
   ],
   "source": [
    "freq = pd.Series(' '.join(raw_data['clean_text']).split()).value_counts()[-1000:]\n",
    "freq = list(freq.index)\n",
    "raw_data['clean_text'].apply(lambda x: \" \".join(x for x in x.split() if x not in freq))\n",
    "raw_data['clean_text'].head(20)"
   ]
  },
  {
   "cell_type": "code",
   "execution_count": 194,
   "metadata": {},
   "outputs": [],
   "source": [
    "freq = pd.Series(' '.join(raw_data['clean_text']).split()).value_counts()[-100:]\n",
    "freq = list(freq.index)"
   ]
  },
  {
   "cell_type": "code",
   "execution_count": 195,
   "metadata": {
    "scrolled": true
   },
   "outputs": [
    {
     "data": {
      "text/plain": [
       "['Fooled',\n",
       " 'xe2x80x9cflattening',\n",
       " 'wreaks',\n",
       " 'geography',\n",
       " 'McAvaney',\n",
       " 'njust',\n",
       " 'Le',\n",
       " 'nathan',\n",
       " 'stickingxe2x80xa6',\n",
       " 'lamb',\n",
       " 'Sorxe2x80xa6',\n",
       " 'leading.',\n",
       " 'Shameful.',\n",
       " 'JOBninternational',\n",
       " 'finances)',\n",
       " 'Chinamen',\n",
       " 'driver,',\n",
       " 'softly',\n",
       " 'increasingxe2x80x9d',\n",
       " 'collabxe2x80xa6',\n",
       " 'NationsnYES',\n",
       " 'all.nIt',\n",
       " 'Sir,nnwe',\n",
       " 'Pr1me',\n",
       " 'NBC',\n",
       " 'Donny',\n",
       " 'xe2x80x98Celebritiesxe2x80x99',\n",
       " 'Hydroxychloroquinexe2x80xa6',\n",
       " 'normally,',\n",
       " 'lyinxe2x80xa6',\n",
       " 'Shortens',\n",
       " 'nnTens',\n",
       " 'nChildcare,',\n",
       " 'observxe2x80xa6',\n",
       " 'Congratulatexe2x80xa6',\n",
       " 'Ki',\n",
       " 'nnBackwardsnn',\n",
       " 'Duuude',\n",
       " 'divexe2x80xa6',\n",
       " 'nationalised',\n",
       " 'progress.nnThe',\n",
       " 'Distractxe2x80xa6',\n",
       " 'admired',\n",
       " 'A2',\n",
       " 'legit.',\n",
       " 'Plod.',\n",
       " 'xf0x9fx91x8cxf0x9fx91x8c',\n",
       " 'Crueltyxe2x80xa6',\n",
       " 'Diverting',\n",
       " 'audit',\n",
       " 'cronies.',\n",
       " 'Evasion,',\n",
       " 'thingsnn1.',\n",
       " 'view.xe2x80xa6',\n",
       " 'Happened',\n",
       " 'William',\n",
       " 'Libs....they',\n",
       " 'Defamation',\n",
       " 'Sturgeon',\n",
       " 'payouts.',\n",
       " 'clown,',\n",
       " 'type.',\n",
       " 'tonightxe2x80x99s',\n",
       " 'BeenAre',\n",
       " 'Kent',\n",
       " 'incompetence.',\n",
       " 'STOPPED',\n",
       " 'tums',\n",
       " 'SAFEST',\n",
       " 'Alledgedly',\n",
       " 'SHaC-',\n",
       " 'Aaannd',\n",
       " 'glands',\n",
       " 'permission.',\n",
       " 'fastxe2x80xa6',\n",
       " 'WORKING,LOOKING',\n",
       " 'nnNot',\n",
       " 'millennial.',\n",
       " 'nnDonxe2x80x99t',\n",
       " 'themes',\n",
       " 'arses',\n",
       " 'inhuman.',\n",
       " 'assymptomatic',\n",
       " 'natural.',\n",
       " 'truth.nNow',\n",
       " 'catholics',\n",
       " 'Diye',\n",
       " 'sophisticated',\n",
       " 'corruptionxe2x80xa6',\n",
       " 'Rodd.',\n",
       " 'about.nMumblxe2x80xa6',\n",
       " 'Macsween',\n",
       " 'enfxe2x80xa6',\n",
       " 'attending.',\n",
       " 'succeeded.',\n",
       " 'vindicated',\n",
       " 'First.nnAnd',\n",
       " 'whinged',\n",
       " 'regent',\n",
       " 'xf0x9fxa4x8dxe2x98xa6xefxb8x8f2']"
      ]
     },
     "execution_count": 195,
     "metadata": {},
     "output_type": "execute_result"
    }
   ],
   "source": [
    "freq"
   ]
  },
  {
   "cell_type": "code",
   "execution_count": null,
   "metadata": {},
   "outputs": [],
   "source": []
  },
  {
   "cell_type": "code",
   "execution_count": 220,
   "metadata": {},
   "outputs": [
    {
     "data": {
      "text/plain": [
       "True"
      ]
     },
     "execution_count": 220,
     "metadata": {},
     "output_type": "execute_result"
    }
   ],
   "source": [
    "\"doing\" in words.words()"
   ]
  },
  {
   "cell_type": "code",
   "execution_count": 240,
   "metadata": {},
   "outputs": [],
   "source": [
    "raw_data['clean_text'] = raw_data['clean_text'].apply(lambda x: \" \".join(x for x in x.split() if len(x)>100 and x  in words.words()))"
   ]
  },
  {
   "cell_type": "code",
   "execution_count": 241,
   "metadata": {},
   "outputs": [
    {
     "data": {
      "text/plain": [
       "0     \n",
       "1     \n",
       "2     \n",
       "3     \n",
       "4     \n",
       "5     \n",
       "6     \n",
       "7     \n",
       "8     \n",
       "9     \n",
       "10    \n",
       "11    \n",
       "12    \n",
       "13    \n",
       "14    \n",
       "15    \n",
       "16    \n",
       "17    \n",
       "18    \n",
       "19    \n",
       "Name: clean_text, dtype: object"
      ]
     },
     "execution_count": 241,
     "metadata": {},
     "output_type": "execute_result"
    }
   ],
   "source": [
    "raw_data['clean_text'].head(20)"
   ]
  },
  {
   "cell_type": "code",
   "execution_count": null,
   "metadata": {},
   "outputs": [],
   "source": []
  },
  {
   "cell_type": "code",
   "execution_count": null,
   "metadata": {},
   "outputs": [],
   "source": []
  },
  {
   "cell_type": "code",
   "execution_count": null,
   "metadata": {},
   "outputs": [],
   "source": []
  },
  {
   "cell_type": "markdown",
   "metadata": {},
   "source": [
    "# Spelling correction"
   ]
  },
  {
   "cell_type": "code",
   "execution_count": 202,
   "metadata": {},
   "outputs": [
    {
     "data": {
      "text/plain": [
       "0                                              Wonder know would Fuller take action\n",
       "1                            China doesnxe2x80x99t need raise sweat buys everything\n",
       "2               Wants keep polls e.g. leaders wartime popularity rises xf0x9fxa4xac\n",
       "3                                                             Pt10),,,,,,,xe2x80xa6\n",
       "4                                                     n nYou guys going investigate\n",
       "5                                                            Now rest world Looking\n",
       "6                                He didnt speak tongues event would interexe2x80xa6\n",
       "7                                                     Why would victims thxe2x80xa6\n",
       "8      xe2x80x9caUsTRaLiA US aRE gOod mAtEsxe2x80x9d nnGet new line ya fucken nerd.\n",
       "9                    So agree social restrictions movements And, asking mexe2x80xa6\n",
       "10                      Cudos Japan Australia needs want remain Governmentxe2x80xa6\n",
       "11                                                                   Get Not simple\n",
       "12        People die inside too. Many isolation loneliness. The problem wixe2x80xa6\n",
       "13                                                        How going income tax cuts\n",
       "14    Some Americans citizens living Australia, need financial support, soxe2x80xa6\n",
       "15       Well, youxe2x80x99ve done pretty good job far AND used magic word, I will.\n",
       "16      I want see puzzles family doing. Do make nice pictures Who think txe2x80xa6\n",
       "17                      Whos going health recommendations Im suggesting bexe2x80xa6\n",
       "18                                         I glad Tony Abbott opposition right now.\n",
       "19                                                                Nothing employers\n",
       "Name: clean_text, dtype: object"
      ]
     },
     "execution_count": 202,
     "metadata": {},
     "output_type": "execute_result"
    }
   ],
   "source": [
    "from textblob import TextBlob\n",
    "raw_data['clean_text'][:5].apply(lambda x: str(TextBlob(x).correct()))\n",
    "raw_data['clean_text'].head(20)"
   ]
  },
  {
   "cell_type": "markdown",
   "metadata": {},
   "source": [
    "# Lemmatization\n",
    "we usually prefer using lemmatization over stemming"
   ]
  },
  {
   "cell_type": "code",
   "execution_count": 203,
   "metadata": {},
   "outputs": [
    {
     "data": {
      "text/plain": [
       "0                                             Wonder know would Fuller take action\n",
       "1                            China doesnxe2x80x99t need raise sweat buy everything\n",
       "2                 Wants keep poll e.g. leader wartime popularity rise xf0x9fxa4xac\n",
       "3                                                            Pt10),,,,,,,xe2x80xa6\n",
       "4                                                     n nYou guy going investigate\n",
       "5                                                           Now rest world Looking\n",
       "6                                He didnt speak tongue event would interexe2x80xa6\n",
       "7                                                     Why would victim thxe2x80xa6\n",
       "8     xe2x80x9caUsTRaLiA US aRE gOod mAtEsxe2x80x9d nnGet new line ya fucken nerd.\n",
       "9                     So agree social restriction movement And, asking mexe2x80xa6\n",
       "10                      Cudos Japan Australia need want remain Governmentxe2x80xa6\n",
       "11                                                                  Get Not simple\n",
       "12       People die inside too. Many isolation loneliness. The problem wixe2x80xa6\n",
       "13                                                        How going income tax cut\n",
       "14    Some Americans citizen living Australia, need financial support, soxe2x80xa6\n",
       "15      Well, youxe2x80x99ve done pretty good job far AND used magic word, I will.\n",
       "16       I want see puzzle family doing. Do make nice picture Who think txe2x80xa6\n",
       "17                      Whos going health recommendation Im suggesting bexe2x80xa6\n",
       "18                                        I glad Tony Abbott opposition right now.\n",
       "19                                                                Nothing employer\n",
       "Name: clean_text, dtype: object"
      ]
     },
     "execution_count": 203,
     "metadata": {},
     "output_type": "execute_result"
    }
   ],
   "source": [
    "from textblob import Word\n",
    "raw_data['clean_text'] = raw_data['clean_text'].apply(lambda x: \" \".join([Word(word).lemmatize() for word in x.split()]))\n",
    "raw_data['clean_text'].head(20)"
   ]
  },
  {
   "cell_type": "code",
   "execution_count": null,
   "metadata": {},
   "outputs": [],
   "source": []
  },
  {
   "cell_type": "code",
   "execution_count": null,
   "metadata": {},
   "outputs": [],
   "source": []
  },
  {
   "cell_type": "code",
   "execution_count": null,
   "metadata": {},
   "outputs": [],
   "source": [
    "blob = TextBlob(\"Analytics Vidhya is a great platform to learn data science.\")\n",
    "for np in blob.noun_phrases:\n",
    " print (np)"
   ]
  },
  {
   "cell_type": "code",
   "execution_count": null,
   "metadata": {},
   "outputs": [],
   "source": []
  },
  {
   "cell_type": "code",
   "execution_count": null,
   "metadata": {},
   "outputs": [],
   "source": []
  },
  {
   "cell_type": "code",
   "execution_count": null,
   "metadata": {},
   "outputs": [],
   "source": []
  },
  {
   "cell_type": "code",
   "execution_count": null,
   "metadata": {},
   "outputs": [],
   "source": []
  }
 ],
 "metadata": {
  "kernelspec": {
   "display_name": "Python 3",
   "language": "python",
   "name": "python3"
  },
  "language_info": {
   "codemirror_mode": {
    "name": "ipython",
    "version": 3
   },
   "file_extension": ".py",
   "mimetype": "text/x-python",
   "name": "python",
   "nbconvert_exporter": "python",
   "pygments_lexer": "ipython3",
   "version": "3.6.5"
  }
 },
 "nbformat": 4,
 "nbformat_minor": 2
}
