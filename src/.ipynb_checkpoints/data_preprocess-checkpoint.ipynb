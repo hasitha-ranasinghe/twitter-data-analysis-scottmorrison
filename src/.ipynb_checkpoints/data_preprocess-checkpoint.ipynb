{
 "cells": [
  {
   "cell_type": "code",
   "execution_count": 1,
   "metadata": {},
   "outputs": [],
   "source": [
    "import pandas as pd     \n",
    "import numpy as np  "
   ]
  },
  {
   "cell_type": "code",
   "execution_count": 21,
   "metadata": {},
   "outputs": [],
   "source": [
    "import preprocessor as p\n",
    "import re\n",
    "\n",
    "#from preprocessor.api import clean, tokenize, parse"
   ]
  },
  {
   "cell_type": "code",
   "execution_count": 46,
   "metadata": {},
   "outputs": [],
   "source": [
    "import nltk\n",
    "from nltk.tokenize import sent_tokenize\n",
    "from nltk.corpus import stopwords\n",
    "from nltk.tokenize import word_tokenize\n",
    "from nltk.stem import PorterStemmer"
   ]
  },
  {
   "cell_type": "code",
   "execution_count": 72,
   "metadata": {
    "scrolled": true
   },
   "outputs": [],
   "source": [
    "raw_data = pd.read_csv('data/raw/scomo.csv')"
   ]
  },
  {
   "cell_type": "code",
   "execution_count": 73,
   "metadata": {},
   "outputs": [],
   "source": [
    "pd.options.display.max_colwidth=300"
   ]
  },
  {
   "cell_type": "code",
   "execution_count": 74,
   "metadata": {},
   "outputs": [
    {
     "data": {
      "text/plain": [
       "0             b'@BelindaJones68 @Hillsong @ScottMorrisonMP @nswpolice Wonder if @nswpolice know about this and would they or Fuller take action?'\n",
       "1                               b'@Ctl_Alt_Del @cscviews @ScottMorrisonMP China doesn\\xe2\\x80\\x99t need to raise a sweat it just buys everything'\n",
       "2                       b'@Ctl_Alt_Del @ScottMorrisonMP Wants to keep up the polls e.g. leaders during wartime popularity rises \\xf0\\x9f\\xa4\\xac'\n",
       "3    b'@FBIAgentsAssoc @FBIWFO @ScottMorrisonMP(Pt10)@Citi,@eBay,@amazon,@Twitter,@bbva,@Microsoft,@Outlook,\\xe2\\x80\\xa6 https://t.co/F8wvFFNJlM'\n",
       "4                                     b'@BelindaJones68 @ScottMorrisonMP @BrianCHouston @nswpolice \\n@NSWHealth \\nYou guys going to investigate?'\n",
       "Name: tweet_text, dtype: object"
      ]
     },
     "execution_count": 74,
     "metadata": {},
     "output_type": "execute_result"
    }
   ],
   "source": [
    "raw_data['tweet_text'].head()"
   ]
  },
  {
   "cell_type": "code",
   "execution_count": 75,
   "metadata": {},
   "outputs": [
    {
     "data": {
      "text/plain": [
       "0             b'@BelindaJones68 @Hillsong @ScottMorrisonMP @nswpolice Wonder if @nswpolice know about this and would they or Fuller take action?'\n",
       "1                               b'@Ctl_Alt_Del @cscviews @ScottMorrisonMP China doesn\\xe2\\x80\\x99t need to raise a sweat it just buys everything'\n",
       "2                       b'@Ctl_Alt_Del @ScottMorrisonMP Wants to keep up the polls e.g. leaders during wartime popularity rises \\xf0\\x9f\\xa4\\xac'\n",
       "3    b'@FBIAgentsAssoc @FBIWFO @ScottMorrisonMP(Pt10)@Citi,@eBay,@amazon,@Twitter,@bbva,@Microsoft,@Outlook,\\xe2\\x80\\xa6 https://t.co/F8wvFFNJlM'\n",
       "4                                     b'@BelindaJones68 @ScottMorrisonMP @BrianCHouston @nswpolice \\n@NSWHealth \\nYou guys going to investigate?'\n",
       "Name: tweet_text, dtype: object"
      ]
     },
     "execution_count": 75,
     "metadata": {},
     "output_type": "execute_result"
    }
   ],
   "source": [
    "raw_data['tweet_text'].head()"
   ]
  },
  {
   "cell_type": "code",
   "execution_count": null,
   "metadata": {},
   "outputs": [],
   "source": []
  },
  {
   "cell_type": "code",
   "execution_count": 76,
   "metadata": {},
   "outputs": [],
   "source": [
    "raw_data['clean_text'] = np.array([ p.clean(tweet) for tweet in raw_data['tweet_text'] ])"
   ]
  },
  {
   "cell_type": "code",
   "execution_count": 77,
   "metadata": {},
   "outputs": [
    {
     "name": "stdout",
     "output_type": "stream",
     "text": [
      "0                             b' Wonder if know about this and would they or Fuller take action?'\n",
      "1                      b' China doesn\\xe2\\x80\\x99t need to raise a sweat it just buys everything'\n",
      "2    b' Wants to keep up the polls e.g. leaders during wartime popularity rises \\xf0\\x9f\\xa4\\xac'\n",
      "3                                                                  b' (Pt10),,,,,,,\\xe2\\x80\\xa6 '\n",
      "4                                                         b' \\n \\nYou guys going to investigate?'\n",
      "Name: clean_text, dtype: object\n"
     ]
    }
   ],
   "source": [
    "print(raw_data['clean_text'].head())"
   ]
  },
  {
   "cell_type": "code",
   "execution_count": 78,
   "metadata": {},
   "outputs": [],
   "source": [
    "raw_data['clean_text'] = np.array([ re.sub(r'(@[A-Za-z0-9]+)|([^0)-9A-Za-z \\t])|(\\w+:\\/\\/\\S+)', \"\", tweet) for tweet in raw_data['clean_text'] ])"
   ]
  },
  {
   "cell_type": "code",
   "execution_count": 79,
   "metadata": {},
   "outputs": [
    {
     "name": "stdout",
     "output_type": "stream",
     "text": [
      "0                          b Wonder if know about this and would they or Fuller take action\n",
      "1                     b China doesnxe2x80x99t need to raise a sweat it just buys everything\n",
      "2    b Wants to keep up the polls e.g. leaders during wartime popularity rises xf0x9fxa4xac\n",
      "3                                                                  b Pt10),,,,,,,xe2x80xa6 \n",
      "4                                                        b n nYou guys going to investigate\n",
      "Name: clean_text, dtype: object\n"
     ]
    }
   ],
   "source": [
    "print(raw_data['clean_text'].head())"
   ]
  },
  {
   "cell_type": "code",
   "execution_count": null,
   "metadata": {},
   "outputs": [],
   "source": []
  },
  {
   "cell_type": "code",
   "execution_count": 80,
   "metadata": {},
   "outputs": [],
   "source": [
    "raw_data['clean_text'] = np.array([ tweet[1:] for tweet in raw_data['clean_text'] ])"
   ]
  },
  {
   "cell_type": "code",
   "execution_count": 82,
   "metadata": {},
   "outputs": [
    {
     "data": {
      "text/plain": [
       "0                                                  Wonder if know about this and would they or Fuller take action\n",
       "1                                             China doesnxe2x80x99t need to raise a sweat it just buys everything\n",
       "2                            Wants to keep up the polls e.g. leaders during wartime popularity rises xf0x9fxa4xac\n",
       "3                                                                                          Pt10),,,,,,,xe2x80xa6 \n",
       "4                                                                                n nYou guys going to investigate\n",
       "5                                                                       Now the rest of the world Looking at you \n",
       "6                                        He didnt speak in tongues at this event but it would be interexe2x80xa6 \n",
       "7                                                                           Why would the victims of thxe2x80xa6 \n",
       "8                            xe2x80x9caUsTRaLiA and the US aRE gOod mAtEsxe2x80x9d nnGet new line ya fucken nerd.\n",
       "9                            So you agree with the social restrictions on movements then And, asking mexe2x80xa6 \n",
       "10                   Cudos to Japan now Australia needs to do the same you want to remain in Governmentxe2x80xa6 \n",
       "11                                                                                     Get it Not so simple is it\n",
       "12                              People die inside too. Many of isolation and loneliness. The problem wixe2x80xa6 \n",
       "13                                                                         How are we going with income tax cuts \n",
       "14                Some Americans citizens are living in Australia, they need some financial support, soxe2x80xa6 \n",
       "15                Well, because youxe2x80x99ve done a pretty good job so far AND you used the magic word, I will.\n",
       "16    I want to see the puzzles and his family are doing. Do they make nice pictures Who do you think txe2x80xa6 \n",
       "17                                  Whos going against the health recommendations Im suggesting they bexe2x80xa6 \n",
       "18                                                      I am so glad Tony Abbott is not in opposition right now. \n",
       "19                                                                                          Nothing for employers\n",
       "Name: clean_text, dtype: object"
      ]
     },
     "execution_count": 82,
     "metadata": {},
     "output_type": "execute_result"
    }
   ],
   "source": [
    "raw_data['clean_text'].head(20)"
   ]
  },
  {
   "cell_type": "code",
   "execution_count": null,
   "metadata": {},
   "outputs": [],
   "source": []
  },
  {
   "cell_type": "code",
   "execution_count": 88,
   "metadata": {},
   "outputs": [],
   "source": [
    "raw_data['tweet_text'] = raw_data['clean_text']"
   ]
  },
  {
   "cell_type": "code",
   "execution_count": 89,
   "metadata": {},
   "outputs": [
    {
     "data": {
      "text/plain": [
       "0                      My new work pants xf0x9fx98x82 \n",
       "1    Oh man, we miss being in our offices in Northb...\n",
       "2    Spent time planting my veggie garden and dug u...\n",
       "3                   Stay home and stay safe everyone. \n",
       "4    Think about it. Whats weeks in complete lockdo...\n",
       "Name: tweet_text, dtype: object"
      ]
     },
     "execution_count": 89,
     "metadata": {},
     "output_type": "execute_result"
    }
   ],
   "source": [
    "raw_data['tweet_text'].head()"
   ]
  },
  {
   "cell_type": "code",
   "execution_count": 90,
   "metadata": {},
   "outputs": [],
   "source": [
    "raw_data = raw_data.drop(['clean_text'], axis=1)"
   ]
  },
  {
   "cell_type": "code",
   "execution_count": 91,
   "metadata": {},
   "outputs": [
    {
     "data": {
      "text/html": [
       "<div>\n",
       "<style scoped>\n",
       "    .dataframe tbody tr th:only-of-type {\n",
       "        vertical-align: middle;\n",
       "    }\n",
       "\n",
       "    .dataframe tbody tr th {\n",
       "        vertical-align: top;\n",
       "    }\n",
       "\n",
       "    .dataframe thead th {\n",
       "        text-align: right;\n",
       "    }\n",
       "</style>\n",
       "<table border=\"1\" class=\"dataframe\">\n",
       "  <thead>\n",
       "    <tr style=\"text-align: right;\">\n",
       "      <th></th>\n",
       "      <th>user_id</th>\n",
       "      <th>tweet_created_time</th>\n",
       "      <th>tweet_text</th>\n",
       "      <th>tweet_length</th>\n",
       "      <th>user_created_at</th>\n",
       "      <th>user_followers_count</th>\n",
       "      <th>user_friends_count</th>\n",
       "      <th>twitter_source</th>\n",
       "      <th>tweet_likes</th>\n",
       "      <th>tweet_retweets</th>\n",
       "    </tr>\n",
       "  </thead>\n",
       "  <tbody>\n",
       "    <tr>\n",
       "      <th>0</th>\n",
       "      <td>1246775237133230089</td>\n",
       "      <td>2020-04-05 12:22:35</td>\n",
       "      <td>My new work pants xf0x9fx98x82</td>\n",
       "      <td>62</td>\n",
       "      <td>2019-04-06 10:15:46</td>\n",
       "      <td>349</td>\n",
       "      <td>650</td>\n",
       "      <td>Twitter for iPhone</td>\n",
       "      <td>4</td>\n",
       "      <td>0</td>\n",
       "    </tr>\n",
       "    <tr>\n",
       "      <th>1</th>\n",
       "      <td>1246773530680754179</td>\n",
       "      <td>2020-04-05 12:15:48</td>\n",
       "      <td>Oh man, we miss being in our offices in Northb...</td>\n",
       "      <td>133</td>\n",
       "      <td>2012-10-11 03:32:19</td>\n",
       "      <td>921</td>\n",
       "      <td>249</td>\n",
       "      <td>Twitter for iPhone</td>\n",
       "      <td>0</td>\n",
       "      <td>0</td>\n",
       "    </tr>\n",
       "    <tr>\n",
       "      <th>2</th>\n",
       "      <td>1246773513177849856</td>\n",
       "      <td>2020-04-05 12:15:44</td>\n",
       "      <td>Spent time planting my veggie garden and dug u...</td>\n",
       "      <td>138</td>\n",
       "      <td>2015-07-10 01:23:49</td>\n",
       "      <td>482</td>\n",
       "      <td>559</td>\n",
       "      <td>Twitter for iPhone</td>\n",
       "      <td>0</td>\n",
       "      <td>0</td>\n",
       "    </tr>\n",
       "    <tr>\n",
       "      <th>3</th>\n",
       "      <td>1246770742785478656</td>\n",
       "      <td>2020-04-05 12:04:43</td>\n",
       "      <td>Stay home and stay safe everyone.</td>\n",
       "      <td>134</td>\n",
       "      <td>2011-04-02 07:02:15</td>\n",
       "      <td>300</td>\n",
       "      <td>727</td>\n",
       "      <td>Twitter for Android</td>\n",
       "      <td>0</td>\n",
       "      <td>0</td>\n",
       "    </tr>\n",
       "    <tr>\n",
       "      <th>4</th>\n",
       "      <td>1246770139061575680</td>\n",
       "      <td>2020-04-05 12:02:19</td>\n",
       "      <td>Think about it. Whats weeks in complete lockdo...</td>\n",
       "      <td>90</td>\n",
       "      <td>2019-06-13 00:18:44</td>\n",
       "      <td>1</td>\n",
       "      <td>31</td>\n",
       "      <td>Twitter for Android</td>\n",
       "      <td>0</td>\n",
       "      <td>0</td>\n",
       "    </tr>\n",
       "  </tbody>\n",
       "</table>\n",
       "</div>"
      ],
      "text/plain": [
       "               user_id   tweet_created_time  \\\n",
       "0  1246775237133230089  2020-04-05 12:22:35   \n",
       "1  1246773530680754179  2020-04-05 12:15:48   \n",
       "2  1246773513177849856  2020-04-05 12:15:44   \n",
       "3  1246770742785478656  2020-04-05 12:04:43   \n",
       "4  1246770139061575680  2020-04-05 12:02:19   \n",
       "\n",
       "                                          tweet_text  tweet_length  \\\n",
       "0                    My new work pants xf0x9fx98x82             62   \n",
       "1  Oh man, we miss being in our offices in Northb...           133   \n",
       "2  Spent time planting my veggie garden and dug u...           138   \n",
       "3                 Stay home and stay safe everyone.            134   \n",
       "4  Think about it. Whats weeks in complete lockdo...            90   \n",
       "\n",
       "       user_created_at  user_followers_count  user_friends_count  \\\n",
       "0  2019-04-06 10:15:46                   349                 650   \n",
       "1  2012-10-11 03:32:19                   921                 249   \n",
       "2  2015-07-10 01:23:49                   482                 559   \n",
       "3  2011-04-02 07:02:15                   300                 727   \n",
       "4  2019-06-13 00:18:44                     1                  31   \n",
       "\n",
       "        twitter_source  tweet_likes  tweet_retweets  \n",
       "0   Twitter for iPhone            4               0  \n",
       "1   Twitter for iPhone            0               0  \n",
       "2   Twitter for iPhone            0               0  \n",
       "3  Twitter for Android            0               0  \n",
       "4  Twitter for Android            0               0  "
      ]
     },
     "execution_count": 91,
     "metadata": {},
     "output_type": "execute_result"
    }
   ],
   "source": [
    "raw_data.head()"
   ]
  },
  {
   "cell_type": "markdown",
   "metadata": {},
   "source": [
    "# Write to csv"
   ]
  },
  {
   "cell_type": "code",
   "execution_count": 92,
   "metadata": {},
   "outputs": [],
   "source": [
    "raw_data.to_csv('data/processed/processed_data.csv',index=False)"
   ]
  },
  {
   "cell_type": "code",
   "execution_count": null,
   "metadata": {},
   "outputs": [],
   "source": []
  },
  {
   "cell_type": "code",
   "execution_count": null,
   "metadata": {},
   "outputs": [],
   "source": []
  },
  {
   "cell_type": "markdown",
   "metadata": {},
   "source": [
    "# Lower case"
   ]
  },
  {
   "cell_type": "code",
   "execution_count": 17,
   "metadata": {},
   "outputs": [
    {
     "data": {
      "text/plain": [
       "0    b'@belindajones68 @hillsong @scottmorrisonmp @...\n",
       "1    b'@ctl_alt_del @cscviews @scottmorrisonmp chin...\n",
       "2    b'@ctl_alt_del @scottmorrisonmp wants to keep ...\n",
       "3    b'@fbiagentsassoc @fbiwfo @scottmorrisonmp(pt1...\n",
       "4    b'@belindajones68 @scottmorrisonmp @brianchous...\n",
       "Name: tweet_text, dtype: object"
      ]
     },
     "execution_count": 17,
     "metadata": {},
     "output_type": "execute_result"
    }
   ],
   "source": [
    "raw_data['tweet_text'] = raw_data['tweet_text'].apply(lambda x: \" \".join(x.lower() for x in x.split()))\n",
    "raw_data['tweet_text'].head()"
   ]
  },
  {
   "cell_type": "markdown",
   "metadata": {},
   "source": [
    "# Removing Punctuation"
   ]
  },
  {
   "cell_type": "code",
   "execution_count": 18,
   "metadata": {},
   "outputs": [
    {
     "data": {
      "text/plain": [
       "0    bbelindajones68 hillsong scottmorrisonmp nswpo...\n",
       "1    bctl_alt_del cscviews scottmorrisonmp china do...\n",
       "2    bctl_alt_del scottmorrisonmp wants to keep up ...\n",
       "3    bfbiagentsassoc fbiwfo scottmorrisonmppt10citi...\n",
       "4    bbelindajones68 scottmorrisonmp brianchouston ...\n",
       "Name: tweet_text, dtype: object"
      ]
     },
     "execution_count": 18,
     "metadata": {},
     "output_type": "execute_result"
    }
   ],
   "source": [
    "raw_data['tweet_text'] = raw_data['tweet_text'].str.replace('[^\\w\\s]','')\n",
    "raw_data['tweet_text'].head()"
   ]
  },
  {
   "cell_type": "markdown",
   "metadata": {},
   "source": [
    "# Rare words removal"
   ]
  },
  {
   "cell_type": "code",
   "execution_count": 19,
   "metadata": {},
   "outputs": [
    {
     "data": {
      "text/plain": [
       "0    bbelindajones68 hillsong scottmorrisonmp nswpo...\n",
       "1    bctl_alt_del cscviews scottmorrisonmp china do...\n",
       "2    bctl_alt_del scottmorrisonmp wants to keep up ...\n",
       "3    bfbiagentsassoc fbiwfo scottmorrisonmppt10citi...\n",
       "4    bbelindajones68 scottmorrisonmp brianchouston ...\n",
       "Name: tweet_text, dtype: object"
      ]
     },
     "execution_count": 19,
     "metadata": {},
     "output_type": "execute_result"
    }
   ],
   "source": [
    "freq = pd.Series(' '.join(raw_data['clean_text']).split()).value_counts()[-10:]\n",
    "freq = list(freq.index)\n",
    "raw_data['clean_text'].apply(lambda x: \" \".join(x for x in x.split() if x not in freq))\n",
    "raw_data['clean_text'].head()"
   ]
  },
  {
   "cell_type": "code",
   "execution_count": 98,
   "metadata": {},
   "outputs": [],
   "source": [
    "freq = pd.Series(' '.join(raw_data['clean_text']).split()).value_counts()[-100:]\n",
    "freq = list(freq.index)"
   ]
  },
  {
   "cell_type": "code",
   "execution_count": 99,
   "metadata": {
    "scrolled": true
   },
   "outputs": [
    {
     "data": {
      "text/plain": [
       "['couple)',\n",
       " 'jana',\n",
       " 'softly',\n",
       " 'sh',\n",
       " 'increasingxe2x80x9d',\n",
       " 'collabxe2x80xa6',\n",
       " 'McAvaney',\n",
       " 'geography',\n",
       " 'wreaks',\n",
       " 'xe2x80x9cflattening',\n",
       " 'Hi..',\n",
       " 'basics.',\n",
       " 'additions',\n",
       " 'GIVING',\n",
       " 'theatre,',\n",
       " 'GIVEING',\n",
       " 'Poinxe2x80xa6',\n",
       " 'cannoxe2x80xa6',\n",
       " 'Pandxe2x80xa6',\n",
       " 'SHELVES',\n",
       " 'xf0x9fx99x8fxf0x9fx8fxbcxf0x9fx99x8fxf0x9fx8fxbcxf0x9fx99x8fxf0x9fx8fxbc',\n",
       " 'doung',\n",
       " 'FDA.',\n",
       " 'truth.nNow',\n",
       " 'Duuude',\n",
       " 'divexe2x80xa6',\n",
       " 'nationalised',\n",
       " 'clown,',\n",
       " 'type.',\n",
       " 'tonightxe2x80x99s',\n",
       " 'glands',\n",
       " 'catholics',\n",
       " 'Ki',\n",
       " 'Diye',\n",
       " 'sophisticated',\n",
       " 'corruptionxe2x80xa6',\n",
       " 'Rodd.',\n",
       " 'about.nMumblxe2x80xa6',\n",
       " 'Macsween',\n",
       " 'enfxe2x80xa6',\n",
       " 'nnBackwardsnn',\n",
       " 'Congratulatexe2x80xa6',\n",
       " '.......it',\n",
       " 'NBC',\n",
       " 'Defamation',\n",
       " 'Sturgeon',\n",
       " 'payouts.',\n",
       " 'thingsnn1.',\n",
       " 'Distractxe2x80xa6',\n",
       " 'nChildcare,',\n",
       " 'progress.nnThe',\n",
       " 'Donny',\n",
       " 'observxe2x80xa6',\n",
       " 'xe2x80x98Celebritiesxe2x80x99',\n",
       " 'Hydroxychloroquinexe2x80xa6',\n",
       " 'normally,',\n",
       " 'lyinxe2x80xa6',\n",
       " 'Shortens',\n",
       " 'Pr1me',\n",
       " 'nnTens',\n",
       " 'attending.',\n",
       " 'succeeded.',\n",
       " 'vindicated',\n",
       " 'stability-',\n",
       " 'millennial.',\n",
       " 'nnDonxe2x80x99t',\n",
       " 'themes',\n",
       " 'admired',\n",
       " 'all.nIt',\n",
       " 'proceeds',\n",
       " 'NationsnYES',\n",
       " 'xf0x9fx92x9bxf0x9fx92x99xf0x9fx92x9bxf0x9fx92x99xf0x9fx92x9bxf0x9fx92x99xf0x9fx92x9bxf0x9fx92x99xf0x9fx92x9bxf0x9fx92x99xf0x9fx92x9bxf0x9fx92x99nThanks',\n",
       " 'First.nnAnd',\n",
       " 'Hansard,',\n",
       " 'factsxe2x80xa6',\n",
       " 'ine',\n",
       " 'remian',\n",
       " 'coverall',\n",
       " 'epicenter',\n",
       " 're...',\n",
       " 'nnNot',\n",
       " 'WORKING,LOOKING',\n",
       " 'fastxe2x80xa6',\n",
       " 'permission.',\n",
       " 'whinged',\n",
       " 'regent',\n",
       " 'natural.',\n",
       " 'assymptomatic',\n",
       " 'inhuman.',\n",
       " 'arses',\n",
       " 'Kent',\n",
       " 'incompetence.',\n",
       " 'STOPPED',\n",
       " 'tums',\n",
       " 'SAFEST',\n",
       " 'Alledgedly',\n",
       " 'SHaC-',\n",
       " 'BeenAre',\n",
       " 'Aaannd',\n",
       " 'xf0x9fxa4x8dxe2x98xa6xefxb8x8f2']"
      ]
     },
     "execution_count": 99,
     "metadata": {},
     "output_type": "execute_result"
    }
   ],
   "source": [
    "freq"
   ]
  },
  {
   "cell_type": "markdown",
   "metadata": {},
   "source": [
    "## Remove stop words"
   ]
  },
  {
   "cell_type": "code",
   "execution_count": 36,
   "metadata": {},
   "outputs": [],
   "source": [
    "stop_words = stopwords.words('english')\n",
    "ps = PorterStemmer()\n",
    "sentences_processed = []"
   ]
  },
  {
   "cell_type": "code",
   "execution_count": 107,
   "metadata": {},
   "outputs": [
    {
     "ename": "SyntaxError",
     "evalue": "invalid syntax (<ipython-input-107-f271745602e7>, line 1)",
     "output_type": "error",
     "traceback": [
      "\u001b[1;36m  File \u001b[1;32m\"<ipython-input-107-f271745602e7>\"\u001b[1;36m, line \u001b[1;32m1\u001b[0m\n\u001b[1;33m    raw_data['clean_text'].apply(lambda x: \" \".join(x for x in [x.split() if x not in stop_words, p.tokenize(clean_text)]))\u001b[0m\n\u001b[1;37m                                                                                                ^\u001b[0m\n\u001b[1;31mSyntaxError\u001b[0m\u001b[1;31m:\u001b[0m invalid syntax\n"
     ]
    }
   ],
   "source": [
    "raw_data['clean_text'].apply(lambda x: \" \".join(x for x in x.split() if x not in stop_words, p.tokenize(clean_text)))"
   ]
  },
  {
   "cell_type": "code",
   "execution_count": null,
   "metadata": {},
   "outputs": [],
   "source": []
  },
  {
   "cell_type": "code",
   "execution_count": 37,
   "metadata": {},
   "outputs": [],
   "source": [
    "for text in raw_data['clean_text'].head():\n",
    "    \n",
    "     # Obtain work tokens\n",
    "    tokenized_words = word_tokenize(text)\n",
    "    \n",
    "    # Remove stop words\n",
    "    filtered_words = list(filter(lambda x: x not in stop_words, tokenized_words))\n",
    "    \n",
    "    # Stemming words (lematization is better but requires POS tagging which)\n",
    "    stemmed_words = list(map(ps.stem, filtered_words))\n",
    "    sentences_processed.append(\" \".join(stemmed_words))\n",
    "    \n"
   ]
  },
  {
   "cell_type": "code",
   "execution_count": 38,
   "metadata": {},
   "outputs": [
    {
     "data": {
      "text/plain": [
       "['bbelindajones68 hillsong scottmorrisonmp nswpolic wonder nswpolic know would fuller take action',\n",
       " 'bctl_alt_del cscview scottmorrisonmp china doesnxe2x80x99t need rais sweat buy everyth',\n",
       " 'bctl_alt_del scottmorrisonmp want keep poll eg leader wartim popular rise xf0x9fxa4xac',\n",
       " 'bfbiagentsassoc fbiwfo scottmorrisonmppt10citiebayamazontwitterbbvamicrosoftoutlookxe2x80xa6 httpstcof8wvffnjlm',\n",
       " 'bbelindajones68 scottmorrisonmp brianchouston nswpolic nnswhealth nyou guy go investig']"
      ]
     },
     "execution_count": 38,
     "metadata": {},
     "output_type": "execute_result"
    }
   ],
   "source": [
    "sentences_processed"
   ]
  },
  {
   "cell_type": "code",
   "execution_count": null,
   "metadata": {},
   "outputs": [],
   "source": []
  },
  {
   "cell_type": "code",
   "execution_count": null,
   "metadata": {},
   "outputs": [],
   "source": []
  },
  {
   "cell_type": "markdown",
   "metadata": {},
   "source": [
    "# Spelling correction"
   ]
  },
  {
   "cell_type": "code",
   "execution_count": 20,
   "metadata": {},
   "outputs": [
    {
     "data": {
      "text/plain": [
       "0    bbelindajones68 hillsong scottmorrisonmp nswpo...\n",
       "1    bctl_alt_del cscviews scottmorrisonmp china do...\n",
       "2    bctl_alt_del scottmorrisonmp wants to keep up ...\n",
       "3    bfbiagentsassoc fbiwfo scottmorrisonmppt10citi...\n",
       "4    bbelindajones68 scottmorrisonmp brianchouston ...\n",
       "Name: tweet_text, dtype: object"
      ]
     },
     "execution_count": 20,
     "metadata": {},
     "output_type": "execute_result"
    }
   ],
   "source": [
    "from textblob import TextBlob\n",
    "raw_data['tweet_text'][:5].apply(lambda x: str(TextBlob(x).correct()))"
   ]
  },
  {
   "cell_type": "markdown",
   "metadata": {},
   "source": [
    "# Lemmatization\n",
    "we usually prefer using lemmatization over stemming"
   ]
  },
  {
   "cell_type": "code",
   "execution_count": 115,
   "metadata": {},
   "outputs": [
    {
     "data": {
      "text/plain": [
       "0    bbelindajones68 hillsong scottmorrisonmp nswpo...\n",
       "1    bctl_alt_del cscviews scottmorrisonmp china do...\n",
       "2    bctl_alt_del scottmorrisonmp want to keep up t...\n",
       "3    bfbiagentsassoc fbiwfo scottmorrisonmppt10citi...\n",
       "4    bbelindajones68 scottmorrisonmp brianchouston ...\n",
       "Name: tweet_text, dtype: object"
      ]
     },
     "execution_count": 115,
     "metadata": {},
     "output_type": "execute_result"
    }
   ],
   "source": [
    "from textblob import Word\n",
    "raw_data['tweet_text'] = raw_data['tweet_text'].apply(lambda x: \" \".join([Word(word).lemmatize() for word in x.split()]))\n",
    "raw_data['tweet_text'].head()"
   ]
  },
  {
   "cell_type": "code",
   "execution_count": null,
   "metadata": {},
   "outputs": [],
   "source": []
  },
  {
   "cell_type": "code",
   "execution_count": null,
   "metadata": {},
   "outputs": [],
   "source": []
  },
  {
   "cell_type": "code",
   "execution_count": null,
   "metadata": {},
   "outputs": [],
   "source": [
    "blob = TextBlob(\"Analytics Vidhya is a great platform to learn data science.\")\n",
    "for np in blob.noun_phrases:\n",
    " print (np)"
   ]
  },
  {
   "cell_type": "code",
   "execution_count": null,
   "metadata": {},
   "outputs": [],
   "source": []
  },
  {
   "cell_type": "code",
   "execution_count": null,
   "metadata": {},
   "outputs": [],
   "source": []
  },
  {
   "cell_type": "code",
   "execution_count": null,
   "metadata": {},
   "outputs": [],
   "source": []
  },
  {
   "cell_type": "code",
   "execution_count": null,
   "metadata": {},
   "outputs": [],
   "source": []
  }
 ],
 "metadata": {
  "kernelspec": {
   "display_name": "Python 3",
   "language": "python",
   "name": "python3"
  },
  "language_info": {
   "codemirror_mode": {
    "name": "ipython",
    "version": 3
   },
   "file_extension": ".py",
   "mimetype": "text/x-python",
   "name": "python",
   "nbconvert_exporter": "python",
   "pygments_lexer": "ipython3",
   "version": "3.6.5"
  }
 },
 "nbformat": 4,
 "nbformat_minor": 2
}
